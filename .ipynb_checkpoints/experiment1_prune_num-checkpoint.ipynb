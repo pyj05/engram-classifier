{
 "cells": [
  {
   "cell_type": "code",
   "execution_count": 1,
   "id": "initial_id",
   "metadata": {
    "collapsed": true,
    "ExecuteTime": {
     "end_time": "2024-11-13T08:17:48.896453400Z",
     "start_time": "2024-11-13T08:17:46.700416800Z"
    }
   },
   "outputs": [],
   "source": [
    "import pandas as pd\n",
    "import matplotlib.pyplot as plt\n",
    "import torch\n",
    "from kan import *\n",
    "from sklearn.model_selection import train_test_split\n",
    "from run_one_model import run_one_model\n",
    "from tqdm import tqdm"
   ]
  },
  {
   "cell_type": "code",
   "execution_count": 2,
   "outputs": [
    {
     "name": "stdout",
     "output_type": "stream",
     "text": [
      "(2000, 2128) (2128, 1)\n"
     ]
    }
   ],
   "source": [
    "# read data\n",
    "x = pd.read_csv('x.csv')\n",
    "y = pd.read_csv('y.csv')\n",
    "# the first column is the gene names, make it as the index\n",
    "x.set_index(x.columns[0], inplace=True)\n",
    "print(x.shape, y.shape)"
   ],
   "metadata": {
    "collapsed": false,
    "ExecuteTime": {
     "end_time": "2024-11-13T08:17:49.482668800Z",
     "start_time": "2024-11-13T08:17:48.897454900Z"
    }
   },
   "id": "c07297d9c8aed49e"
  },
  {
   "cell_type": "code",
   "execution_count": 3,
   "outputs": [],
   "source": [
    "# make x,y to numpy \n",
    "x = x.values\n",
    "y = y.values"
   ],
   "metadata": {
    "collapsed": false,
    "ExecuteTime": {
     "end_time": "2024-11-13T08:17:49.513304100Z",
     "start_time": "2024-11-13T08:17:49.482668800Z"
    }
   },
   "id": "e0f1a735def6ead6"
  },
  {
   "cell_type": "code",
   "execution_count": 4,
   "outputs": [
    {
     "name": "stdout",
     "output_type": "stream",
     "text": [
      "(2128, 2000) (2128, 1)\n"
     ]
    }
   ],
   "source": [
    "# make batch first\n",
    "x = x.T\n",
    "print(x.shape, y.shape)"
   ],
   "metadata": {
    "collapsed": false,
    "ExecuteTime": {
     "end_time": "2024-11-13T08:17:49.518309400Z",
     "start_time": "2024-11-13T08:17:49.504667800Z"
    }
   },
   "id": "21ea9fa53f29f1f6"
  },
  {
   "cell_type": "code",
   "execution_count": 5,
   "outputs": [
    {
     "name": "stdout",
     "output_type": "stream",
     "text": [
      "[0 0 0 0 0 0 0 0 0 0]\n"
     ]
    }
   ],
   "source": [
    "# make y to 0,1,2,3\n",
    "label_map = {'Retrieval': 0, 'Acquisition': 1, 'Overlapping': 2, 'Other': 3, 'Retrieval_con': 0, 'Acquisition_con': 1, 'Overlapping_con': 2, 'Other_con': 3}\n",
    "y = np.array([label_map[i] for i in y.flatten()])\n",
    "print(y[:10])"
   ],
   "metadata": {
    "collapsed": false,
    "ExecuteTime": {
     "end_time": "2024-11-13T08:17:49.544308100Z",
     "start_time": "2024-11-13T08:17:49.517308200Z"
    }
   },
   "id": "9ca675267c14530d"
  },
  {
   "cell_type": "code",
   "execution_count": 6,
   "outputs": [
    {
     "name": "stdout",
     "output_type": "stream",
     "text": [
      "using device:  cuda\n"
     ]
    }
   ],
   "source": [
    "# device cuda or cpu\n",
    "device = torch.device('cuda' if torch.cuda.is_available() else 'cpu')\n",
    "print(\"using device: \", device)"
   ],
   "metadata": {
    "collapsed": false,
    "ExecuteTime": {
     "end_time": "2024-11-13T08:17:49.560333600Z",
     "start_time": "2024-11-13T08:17:49.544308100Z"
    }
   },
   "id": "5950a512d54283d4"
  },
  {
   "cell_type": "code",
   "execution_count": 7,
   "outputs": [],
   "source": [
    "auc = {}"
   ],
   "metadata": {
    "collapsed": false,
    "ExecuteTime": {
     "end_time": "2024-11-13T08:17:49.588326900Z",
     "start_time": "2024-11-13T08:17:49.562329700Z"
    }
   },
   "id": "54c018c39d8b3fb4"
  },
  {
   "cell_type": "code",
   "execution_count": 8,
   "outputs": [
    {
     "name": "stdout",
     "output_type": "stream",
     "text": [
      "checkpoint directory created: ./model\n",
      "saving model version 0.0\n"
     ]
    },
    {
     "name": "stderr",
     "output_type": "stream",
     "text": [
      "| train_loss: 1.27e-01 | test_loss: 2.43e-01 | reg: 1.66e+03 | : 100%|█| 10/10 [00:14<00:00,  1.49s/\n"
     ]
    },
    {
     "name": "stdout",
     "output_type": "stream",
     "text": [
      "saving model version 0.1\n",
      "saving model version 0.2\n",
      "saving model version 0.3\n"
     ]
    },
    {
     "name": "stderr",
     "output_type": "stream",
     "text": [
      "| train_loss: 1.06e+00 | test_loss: 1.06e+00 | reg: 7.01e+00 | : 100%|█| 30/30 [00:00<00:00, 50.20it\n"
     ]
    },
    {
     "name": "stdout",
     "output_type": "stream",
     "text": [
      "saving model version 0.4\n",
      "repeat 1/200, test auc: 0.9962413183681103, after prune test auc: 0.7139773591704308\n",
      "====================================================================================================\n",
      "checkpoint directory created: ./model\n",
      "saving model version 0.0\n"
     ]
    },
    {
     "name": "stderr",
     "output_type": "stream",
     "text": [
      "| train_loss: 1.34e-01 | test_loss: 2.74e-01 | reg: 1.94e+03 | : 100%|█| 10/10 [00:14<00:00,  1.48s/\n"
     ]
    },
    {
     "name": "stdout",
     "output_type": "stream",
     "text": [
      "saving model version 0.1\n",
      "saving model version 0.2\n",
      "saving model version 0.3\n"
     ]
    },
    {
     "name": "stderr",
     "output_type": "stream",
     "text": [
      "| train_loss: 1.02e+00 | test_loss: 1.02e+00 | reg: 8.38e+00 | : 100%|█| 30/30 [00:00<00:00, 52.53it\n"
     ]
    },
    {
     "name": "stdout",
     "output_type": "stream",
     "text": [
      "saving model version 0.4\n",
      "repeat 2/200, test auc: 0.9974219614912618, after prune test auc: 0.7517863890781564\n",
      "====================================================================================================\n",
      "checkpoint directory created: ./model\n",
      "saving model version 0.0\n"
     ]
    },
    {
     "name": "stderr",
     "output_type": "stream",
     "text": [
      "| train_loss: 1.18e-01 | test_loss: 2.41e-01 | reg: 1.57e+03 | : 100%|█| 10/10 [00:16<00:00,  1.62s/\n"
     ]
    },
    {
     "name": "stdout",
     "output_type": "stream",
     "text": [
      "saving model version 0.1\n",
      "saving model version 0.2\n",
      "saving model version 0.3\n"
     ]
    },
    {
     "name": "stderr",
     "output_type": "stream",
     "text": [
      "| train_loss: 9.84e-01 | test_loss: 9.78e-01 | reg: 8.63e+00 | : 100%|█| 30/30 [00:00<00:00, 58.41it\n"
     ]
    },
    {
     "name": "stdout",
     "output_type": "stream",
     "text": [
      "saving model version 0.4\n",
      "repeat 3/200, test auc: 0.9983652463733799, after prune test auc: 0.7558288380822229\n",
      "====================================================================================================\n",
      "checkpoint directory created: ./model\n",
      "saving model version 0.0\n"
     ]
    },
    {
     "name": "stderr",
     "output_type": "stream",
     "text": [
      "| train_loss: 1.21e-01 | test_loss: 2.64e-01 | reg: 2.28e+03 | : 100%|█| 10/10 [00:15<00:00,  1.51s/\n"
     ]
    },
    {
     "name": "stdout",
     "output_type": "stream",
     "text": [
      "saving model version 0.1\n",
      "saving model version 0.2\n",
      "saving model version 0.3\n"
     ]
    },
    {
     "name": "stderr",
     "output_type": "stream",
     "text": [
      "| train_loss: 9.80e-01 | test_loss: 9.96e-01 | reg: 1.17e+01 | : 100%|█| 30/30 [00:00<00:00, 53.95it\n"
     ]
    },
    {
     "name": "stdout",
     "output_type": "stream",
     "text": [
      "saving model version 0.4\n",
      "repeat 4/200, test auc: 0.9951937703466842, after prune test auc: 0.6233405502583818\n",
      "====================================================================================================\n",
      "checkpoint directory created: ./model\n",
      "saving model version 0.0\n"
     ]
    },
    {
     "name": "stderr",
     "output_type": "stream",
     "text": [
      "| train_loss: 1.26e-01 | test_loss: 2.70e-01 | reg: 1.80e+03 | : 100%|█| 10/10 [00:14<00:00,  1.46s/\n"
     ]
    },
    {
     "name": "stdout",
     "output_type": "stream",
     "text": [
      "saving model version 0.1\n",
      "saving model version 0.2\n",
      "saving model version 0.3\n"
     ]
    },
    {
     "name": "stderr",
     "output_type": "stream",
     "text": [
      "| train_loss: 1.04e+00 | test_loss: 1.05e+00 | reg: 8.21e+00 | : 100%|█| 30/30 [00:00<00:00, 60.23it\n"
     ]
    },
    {
     "name": "stdout",
     "output_type": "stream",
     "text": [
      "saving model version 0.4\n",
      "repeat 5/200, test auc: 0.9958360632138457, after prune test auc: 0.6967349891884519\n",
      "====================================================================================================\n",
      "checkpoint directory created: ./model\n",
      "saving model version 0.0\n"
     ]
    },
    {
     "name": "stderr",
     "output_type": "stream",
     "text": [
      "| train_loss: 1.25e-01 | test_loss: 3.35e-01 | reg: 1.55e+03 | : 100%|█| 10/10 [00:14<00:00,  1.45s/\n"
     ]
    },
    {
     "name": "stdout",
     "output_type": "stream",
     "text": [
      "saving model version 0.1\n",
      "saving model version 0.2\n",
      "saving model version 0.3\n"
     ]
    },
    {
     "name": "stderr",
     "output_type": "stream",
     "text": [
      "| train_loss: 1.12e+00 | test_loss: 1.12e+00 | reg: 8.32e+00 | : 100%|█| 30/30 [00:00<00:00, 55.48it\n"
     ]
    },
    {
     "name": "stdout",
     "output_type": "stream",
     "text": [
      "saving model version 0.4\n",
      "repeat 6/200, test auc: 0.9793860982347891, after prune test auc: 0.7439365101080202\n",
      "====================================================================================================\n",
      "checkpoint directory created: ./model\n",
      "saving model version 0.0\n"
     ]
    },
    {
     "name": "stderr",
     "output_type": "stream",
     "text": [
      "| train_loss: 1.37e-01 | test_loss: 3.19e-01 | reg: 1.59e+03 | : 100%|█| 10/10 [00:14<00:00,  1.48s/\n"
     ]
    },
    {
     "name": "stdout",
     "output_type": "stream",
     "text": [
      "saving model version 0.1\n",
      "saving model version 0.2\n",
      "saving model version 0.3\n"
     ]
    },
    {
     "name": "stderr",
     "output_type": "stream",
     "text": [
      "| train_loss: 1.01e+00 | test_loss: 1.01e+00 | reg: 8.64e+00 | : 100%|█| 30/30 [00:00<00:00, 47.87it\n"
     ]
    },
    {
     "name": "stdout",
     "output_type": "stream",
     "text": [
      "saving model version 0.4\n",
      "repeat 7/200, test auc: 0.9919293861427656, after prune test auc: 0.7161266259933177\n",
      "====================================================================================================\n",
      "checkpoint directory created: ./model\n",
      "saving model version 0.0\n"
     ]
    },
    {
     "name": "stderr",
     "output_type": "stream",
     "text": [
      "| train_loss: 1.11e-01 | test_loss: 2.35e-01 | reg: 1.63e+03 | : 100%|█| 10/10 [00:14<00:00,  1.45s/\n"
     ]
    },
    {
     "name": "stdout",
     "output_type": "stream",
     "text": [
      "saving model version 0.1\n",
      "saving model version 0.2\n",
      "saving model version 0.3\n"
     ]
    },
    {
     "name": "stderr",
     "output_type": "stream",
     "text": [
      "| train_loss: 1.04e+00 | test_loss: 1.03e+00 | reg: 9.11e+00 | : 100%|█| 30/30 [00:00<00:00, 53.20it\n"
     ]
    },
    {
     "name": "stdout",
     "output_type": "stream",
     "text": [
      "saving model version 0.4\n",
      "repeat 8/200, test auc: 0.9986719412470638, after prune test auc: 0.7502498062807264\n",
      "====================================================================================================\n",
      "checkpoint directory created: ./model\n",
      "saving model version 0.0\n"
     ]
    },
    {
     "name": "stderr",
     "output_type": "stream",
     "text": [
      "| train_loss: 1.34e-01 | test_loss: 2.81e-01 | reg: 5.55e+04 | : 100%|█| 10/10 [00:14<00:00,  1.43s/\n"
     ]
    },
    {
     "name": "stdout",
     "output_type": "stream",
     "text": [
      "saving model version 0.1\n",
      "saving model version 0.2\n",
      "saving model version 0.3\n"
     ]
    },
    {
     "name": "stderr",
     "output_type": "stream",
     "text": [
      "| train_loss: 9.81e-01 | test_loss: 9.89e-01 | reg: 8.72e+00 | : 100%|█| 30/30 [00:00<00:00, 52.40it\n"
     ]
    },
    {
     "name": "stdout",
     "output_type": "stream",
     "text": [
      "saving model version 0.4\n",
      "repeat 9/200, test auc: 0.9814441977321726, after prune test auc: 0.7458926778886549\n",
      "====================================================================================================\n",
      "checkpoint directory created: ./model\n",
      "saving model version 0.0\n"
     ]
    },
    {
     "name": "stderr",
     "output_type": "stream",
     "text": [
      "| train_loss: 1.37e-01 | test_loss: 2.60e-01 | reg: 1.59e+03 | : 100%|█| 10/10 [00:14<00:00,  1.48s/\n"
     ]
    },
    {
     "name": "stdout",
     "output_type": "stream",
     "text": [
      "saving model version 0.1\n",
      "saving model version 0.2\n",
      "saving model version 0.3\n"
     ]
    },
    {
     "name": "stderr",
     "output_type": "stream",
     "text": [
      "| train_loss: 1.05e+00 | test_loss: 1.05e+00 | reg: 7.95e+00 | : 100%|█| 30/30 [00:00<00:00, 51.88it\n"
     ]
    },
    {
     "name": "stdout",
     "output_type": "stream",
     "text": [
      "saving model version 0.4\n",
      "repeat 10/200, test auc: 0.9952246920558778, after prune test auc: 0.7939354935901514\n",
      "====================================================================================================\n",
      "checkpoint directory created: ./model\n",
      "saving model version 0.0\n"
     ]
    },
    {
     "name": "stderr",
     "output_type": "stream",
     "text": [
      "| train_loss: 1.32e-01 | test_loss: 2.32e-01 | reg: 1.60e+03 | : 100%|█| 10/10 [00:14<00:00,  1.46s/\n"
     ]
    },
    {
     "name": "stdout",
     "output_type": "stream",
     "text": [
      "saving model version 0.1\n",
      "saving model version 0.2\n",
      "saving model version 0.3\n"
     ]
    },
    {
     "name": "stderr",
     "output_type": "stream",
     "text": [
      "| train_loss: 1.02e+00 | test_loss: 1.01e+00 | reg: 8.70e+00 | : 100%|█| 30/30 [00:00<00:00, 51.03it\n"
     ]
    },
    {
     "name": "stdout",
     "output_type": "stream",
     "text": [
      "saving model version 0.4\n",
      "repeat 11/200, test auc: 0.997319179791984, after prune test auc: 0.7351870407133202\n",
      "====================================================================================================\n",
      "checkpoint directory created: ./model\n",
      "saving model version 0.0\n"
     ]
    },
    {
     "name": "stderr",
     "output_type": "stream",
     "text": [
      "| train_loss: 1.22e-01 | test_loss: 2.88e-01 | reg: 1.64e+03 | : 100%|█| 10/10 [00:14<00:00,  1.47s/\n"
     ]
    },
    {
     "name": "stdout",
     "output_type": "stream",
     "text": [
      "saving model version 0.1\n",
      "saving model version 0.2\n",
      "saving model version 0.3\n"
     ]
    },
    {
     "name": "stderr",
     "output_type": "stream",
     "text": [
      "| train_loss: 9.95e-01 | test_loss: 1.02e+00 | reg: 1.16e+01 | : 100%|█| 30/30 [00:00<00:00, 51.43it\n"
     ]
    },
    {
     "name": "stdout",
     "output_type": "stream",
     "text": [
      "saving model version 0.4\n",
      "repeat 12/200, test auc: 0.9856759066331411, after prune test auc: 0.751413492556378\n",
      "====================================================================================================\n",
      "checkpoint directory created: ./model\n",
      "saving model version 0.0\n"
     ]
    },
    {
     "name": "stderr",
     "output_type": "stream",
     "text": [
      "| train_loss: 1.27e-01 | test_loss: 2.30e-01 | reg: 2.08e+03 | : 100%|█| 10/10 [00:14<00:00,  1.45s/\n"
     ]
    },
    {
     "name": "stdout",
     "output_type": "stream",
     "text": [
      "saving model version 0.1\n",
      "saving model version 0.2\n",
      "saving model version 0.3\n"
     ]
    },
    {
     "name": "stderr",
     "output_type": "stream",
     "text": [
      "| train_loss: 1.09e+00 | test_loss: 1.09e+00 | reg: 4.77e+00 | : 100%|█| 30/30 [00:00<00:00, 53.52it\n"
     ]
    },
    {
     "name": "stdout",
     "output_type": "stream",
     "text": [
      "saving model version 0.4\n",
      "repeat 13/200, test auc: 0.9951696722031401, after prune test auc: 0.7476836799936644\n",
      "====================================================================================================\n",
      "checkpoint directory created: ./model\n",
      "saving model version 0.0\n"
     ]
    },
    {
     "name": "stderr",
     "output_type": "stream",
     "text": [
      "| train_loss: 1.28e-01 | test_loss: 2.39e-01 | reg: 1.70e+03 | : 100%|█| 10/10 [00:14<00:00,  1.46s/\n"
     ]
    },
    {
     "name": "stdout",
     "output_type": "stream",
     "text": [
      "saving model version 0.1\n",
      "saving model version 0.2\n",
      "saving model version 0.3\n"
     ]
    },
    {
     "name": "stderr",
     "output_type": "stream",
     "text": [
      "| train_loss: 9.52e-01 | test_loss: 9.46e-01 | reg: 9.28e+00 | : 100%|█| 30/30 [00:00<00:00, 51.79it\n"
     ]
    },
    {
     "name": "stdout",
     "output_type": "stream",
     "text": [
      "saving model version 0.4\n",
      "repeat 14/200, test auc: 0.9921474322434296, after prune test auc: 0.7092141770031694\n",
      "====================================================================================================\n",
      "checkpoint directory created: ./model\n",
      "saving model version 0.0\n"
     ]
    },
    {
     "name": "stderr",
     "output_type": "stream",
     "text": [
      "| train_loss: 1.26e-01 | test_loss: 3.18e-01 | reg: 2.59e+03 | : 100%|█| 10/10 [00:14<00:00,  1.47s/\n"
     ]
    },
    {
     "name": "stdout",
     "output_type": "stream",
     "text": [
      "saving model version 0.1\n",
      "saving model version 0.2\n",
      "saving model version 0.3\n"
     ]
    },
    {
     "name": "stderr",
     "output_type": "stream",
     "text": [
      "| train_loss: 9.68e-01 | test_loss: 9.67e-01 | reg: 8.58e+00 | : 100%|█| 30/30 [00:00<00:00, 54.25it\n"
     ]
    },
    {
     "name": "stdout",
     "output_type": "stream",
     "text": [
      "saving model version 0.4\n",
      "repeat 15/200, test auc: 0.9907945815481827, after prune test auc: 0.7412012596940298\n",
      "====================================================================================================\n",
      "checkpoint directory created: ./model\n",
      "saving model version 0.0\n"
     ]
    },
    {
     "name": "stderr",
     "output_type": "stream",
     "text": [
      "| train_loss: 1.27e-01 | test_loss: 2.27e-01 | reg: 1.67e+03 | : 100%|█| 10/10 [00:14<00:00,  1.44s/\n"
     ]
    },
    {
     "name": "stdout",
     "output_type": "stream",
     "text": [
      "saving model version 0.1\n",
      "saving model version 0.2\n",
      "saving model version 0.3\n"
     ]
    },
    {
     "name": "stderr",
     "output_type": "stream",
     "text": [
      "| train_loss: 1.08e+00 | test_loss: 1.08e+00 | reg: 7.09e+00 | : 100%|█| 30/30 [00:00<00:00, 53.22it\n"
     ]
    },
    {
     "name": "stdout",
     "output_type": "stream",
     "text": [
      "saving model version 0.4\n",
      "repeat 16/200, test auc: 0.9987368855130755, after prune test auc: 0.5870338209323076\n",
      "====================================================================================================\n",
      "checkpoint directory created: ./model\n",
      "saving model version 0.0\n"
     ]
    },
    {
     "name": "stderr",
     "output_type": "stream",
     "text": [
      "| train_loss: 1.24e-01 | test_loss: 3.40e-01 | reg: 2.04e+04 | : 100%|█| 10/10 [00:14<00:00,  1.46s/\n"
     ]
    },
    {
     "name": "stdout",
     "output_type": "stream",
     "text": [
      "saving model version 0.1\n",
      "saving model version 0.2\n",
      "saving model version 0.3\n"
     ]
    },
    {
     "name": "stderr",
     "output_type": "stream",
     "text": [
      "| train_loss: 1.03e+00 | test_loss: 1.04e+00 | reg: 8.98e+00 | : 100%|█| 30/30 [00:00<00:00, 52.94it\n"
     ]
    },
    {
     "name": "stdout",
     "output_type": "stream",
     "text": [
      "saving model version 0.4\n",
      "repeat 17/200, test auc: 0.9716695223258073, after prune test auc: 0.6001785637117977\n",
      "====================================================================================================\n",
      "checkpoint directory created: ./model\n",
      "saving model version 0.0\n"
     ]
    },
    {
     "name": "stderr",
     "output_type": "stream",
     "text": [
      "| train_loss: 1.23e-01 | test_loss: 2.12e-01 | reg: 1.63e+03 | : 100%|█| 10/10 [00:15<00:00,  1.51s/\n"
     ]
    },
    {
     "name": "stdout",
     "output_type": "stream",
     "text": [
      "saving model version 0.1\n",
      "saving model version 0.2\n",
      "saving model version 0.3\n"
     ]
    },
    {
     "name": "stderr",
     "output_type": "stream",
     "text": [
      "| train_loss: 9.52e-01 | test_loss: 9.61e-01 | reg: 8.76e+00 | : 100%|█| 30/30 [00:00<00:00, 51.53it\n"
     ]
    },
    {
     "name": "stdout",
     "output_type": "stream",
     "text": [
      "saving model version 0.4\n",
      "repeat 18/200, test auc: 0.9921563505020838, after prune test auc: 0.7423251662387192\n",
      "====================================================================================================\n",
      "checkpoint directory created: ./model\n",
      "saving model version 0.0\n"
     ]
    },
    {
     "name": "stderr",
     "output_type": "stream",
     "text": [
      "| train_loss: 4.04e-01 | test_loss: 4.15e-01 | reg: 2.09e+03 | :  10%| | 1/10 [00:01<00:16,  1.85s/i\n"
     ]
    },
    {
     "ename": "KeyboardInterrupt",
     "evalue": "",
     "output_type": "error",
     "traceback": [
      "\u001B[1;31m---------------------------------------------------------------------------\u001B[0m",
      "\u001B[1;31mKeyboardInterrupt\u001B[0m                         Traceback (most recent call last)",
      "Cell \u001B[1;32mIn[8], line 7\u001B[0m\n\u001B[0;32m      5\u001B[0m after_prune_test_auc \u001B[38;5;241m=\u001B[39m np\u001B[38;5;241m.\u001B[39mzeros(repeat)\n\u001B[0;32m      6\u001B[0m \u001B[38;5;28;01mfor\u001B[39;00m i \u001B[38;5;129;01min\u001B[39;00m \u001B[38;5;28mrange\u001B[39m(repeat):\n\u001B[1;32m----> 7\u001B[0m     input_score,_,test_metrics,_,after_prune_test_metrics \u001B[38;5;241m=\u001B[39m \u001B[43mrun_one_model\u001B[49m\u001B[43m(\u001B[49m\u001B[43mi\u001B[49m\u001B[43m,\u001B[49m\u001B[43m \u001B[49m\u001B[43mx\u001B[49m\u001B[43m,\u001B[49m\u001B[43m \u001B[49m\u001B[43my\u001B[49m\u001B[43m,\u001B[49m\u001B[43m \u001B[49m\u001B[43mdevice\u001B[49m\u001B[43m,\u001B[49m\u001B[43m \u001B[49m\u001B[43mprune_num\u001B[49m\u001B[43m)\u001B[49m\n\u001B[0;32m      8\u001B[0m     \u001B[38;5;28mprint\u001B[39m(\u001B[38;5;124mf\u001B[39m\u001B[38;5;124m\"\u001B[39m\u001B[38;5;124mrepeat \u001B[39m\u001B[38;5;132;01m{\u001B[39;00mi\u001B[38;5;241m+\u001B[39m\u001B[38;5;241m1\u001B[39m\u001B[38;5;132;01m}\u001B[39;00m\u001B[38;5;124m/\u001B[39m\u001B[38;5;132;01m{\u001B[39;00mrepeat\u001B[38;5;132;01m}\u001B[39;00m\u001B[38;5;124m, test auc: \u001B[39m\u001B[38;5;132;01m{\u001B[39;00mtest_metrics[\u001B[38;5;241m1\u001B[39m]\u001B[38;5;132;01m}\u001B[39;00m\u001B[38;5;124m, after prune test auc: \u001B[39m\u001B[38;5;132;01m{\u001B[39;00mafter_prune_test_metrics[\u001B[38;5;241m1\u001B[39m]\u001B[38;5;132;01m}\u001B[39;00m\u001B[38;5;124m\"\u001B[39m)\n\u001B[0;32m      9\u001B[0m     \u001B[38;5;28mprint\u001B[39m(\u001B[38;5;124mf\u001B[39m\u001B[38;5;124m\"\u001B[39m\u001B[38;5;124m=\u001B[39m\u001B[38;5;124m\"\u001B[39m\u001B[38;5;241m*\u001B[39m\u001B[38;5;241m100\u001B[39m)\n",
      "File \u001B[1;32mD:\\SingleCellML\\run_one_model.py:49\u001B[0m, in \u001B[0;36mrun_one_model\u001B[1;34m(random_state, x, y, device, prune_remain_num)\u001B[0m\n\u001B[0;32m     46\u001B[0m     model\u001B[38;5;241m.\u001B[39mtrain()\n\u001B[0;32m     47\u001B[0m     \u001B[38;5;28;01mreturn\u001B[39;00m roc_auc\n\u001B[1;32m---> 49\u001B[0m results \u001B[38;5;241m=\u001B[39m \u001B[43mmodel\u001B[49m\u001B[38;5;241;43m.\u001B[39;49m\u001B[43mfit\u001B[49m\u001B[43m(\u001B[49m\u001B[43mdataset\u001B[49m\u001B[43m,\u001B[49m\u001B[43m \u001B[49m\u001B[43mopt\u001B[49m\u001B[38;5;241;43m=\u001B[39;49m\u001B[38;5;124;43m\"\u001B[39;49m\u001B[38;5;124;43mLBFGS\u001B[39;49m\u001B[38;5;124;43m\"\u001B[39;49m\u001B[43m,\u001B[49m\u001B[43m \u001B[49m\u001B[43msteps\u001B[49m\u001B[38;5;241;43m=\u001B[39;49m\u001B[38;5;241;43m10\u001B[39;49m\u001B[43m,\u001B[49m\u001B[43m \u001B[49m\u001B[43mmetrics\u001B[49m\u001B[38;5;241;43m=\u001B[39;49m\u001B[43m(\u001B[49m\u001B[43mtrain_acc\u001B[49m\u001B[43m,\u001B[49m\u001B[43m \u001B[49m\u001B[43mtest_acc\u001B[49m\u001B[43m,\u001B[49m\u001B[43m \u001B[49m\u001B[43mtrain_auc\u001B[49m\u001B[43m,\u001B[49m\u001B[43m \u001B[49m\u001B[43mtest_auc\u001B[49m\u001B[43m)\u001B[49m\u001B[43m,\u001B[49m\n\u001B[0;32m     50\u001B[0m \u001B[43m                    \u001B[49m\u001B[43mloss_fn\u001B[49m\u001B[38;5;241;43m=\u001B[39;49m\u001B[43mtorch\u001B[49m\u001B[38;5;241;43m.\u001B[39;49m\u001B[43mnn\u001B[49m\u001B[38;5;241;43m.\u001B[39;49m\u001B[43mCrossEntropyLoss\u001B[49m\u001B[43m(\u001B[49m\u001B[43m)\u001B[49m\u001B[43m,\u001B[49m\u001B[43m \u001B[49m\u001B[43mlr\u001B[49m\u001B[38;5;241;43m=\u001B[39;49m\u001B[38;5;241;43m1e-2\u001B[39;49m\u001B[43m,\u001B[49m\u001B[43m \u001B[49m\u001B[43mlamb\u001B[49m\u001B[38;5;241;43m=\u001B[39;49m\u001B[38;5;241;43m0.002\u001B[39;49m\u001B[43m,\u001B[49m\u001B[43m \u001B[49m\u001B[43mlamb_entropy\u001B[49m\u001B[38;5;241;43m=\u001B[39;49m\u001B[38;5;241;43m10\u001B[39;49m\u001B[43m,\u001B[49m\u001B[43m \u001B[49m\u001B[43mlamb_coef\u001B[49m\u001B[38;5;241;43m=\u001B[39;49m\u001B[38;5;241;43m1\u001B[39;49m\u001B[43m)\u001B[49m\n\u001B[0;32m     52\u001B[0m \u001B[38;5;66;03m# Get the metrics\u001B[39;00m\n\u001B[0;32m     53\u001B[0m train_accuracy, test_accuracy \u001B[38;5;241m=\u001B[39m train_acc(), test_acc()\n",
      "File \u001B[1;32mD:\\SingleCellML\\.venv\\lib\\site-packages\\kan\\MultKAN.py:1537\u001B[0m, in \u001B[0;36mMultKAN.fit\u001B[1;34m(self, dataset, opt, steps, log, lamb, lamb_l1, lamb_entropy, lamb_coef, lamb_coefdiff, update_grid, grid_update_num, loss_fn, lr, start_grid_update_step, stop_grid_update_step, batch, metrics, save_fig, in_vars, out_vars, beta, save_fig_freq, img_folder, singularity_avoiding, y_th, reg_metric, display_metrics)\u001B[0m\n\u001B[0;32m   1534\u001B[0m     \u001B[38;5;28mself\u001B[39m\u001B[38;5;241m.\u001B[39mupdate_grid(dataset[\u001B[38;5;124m'\u001B[39m\u001B[38;5;124mtrain_input\u001B[39m\u001B[38;5;124m'\u001B[39m][train_id])\n\u001B[0;32m   1536\u001B[0m \u001B[38;5;28;01mif\u001B[39;00m opt \u001B[38;5;241m==\u001B[39m \u001B[38;5;124m\"\u001B[39m\u001B[38;5;124mLBFGS\u001B[39m\u001B[38;5;124m\"\u001B[39m:\n\u001B[1;32m-> 1537\u001B[0m     \u001B[43moptimizer\u001B[49m\u001B[38;5;241;43m.\u001B[39;49m\u001B[43mstep\u001B[49m\u001B[43m(\u001B[49m\u001B[43mclosure\u001B[49m\u001B[43m)\u001B[49m\n\u001B[0;32m   1539\u001B[0m \u001B[38;5;28;01mif\u001B[39;00m opt \u001B[38;5;241m==\u001B[39m \u001B[38;5;124m\"\u001B[39m\u001B[38;5;124mAdam\u001B[39m\u001B[38;5;124m\"\u001B[39m:\n\u001B[0;32m   1540\u001B[0m     pred \u001B[38;5;241m=\u001B[39m \u001B[38;5;28mself\u001B[39m\u001B[38;5;241m.\u001B[39mforward(dataset[\u001B[38;5;124m'\u001B[39m\u001B[38;5;124mtrain_input\u001B[39m\u001B[38;5;124m'\u001B[39m][train_id], singularity_avoiding\u001B[38;5;241m=\u001B[39msingularity_avoiding, y_th\u001B[38;5;241m=\u001B[39my_th)\n",
      "File \u001B[1;32mD:\\SingleCellML\\.venv\\lib\\site-packages\\torch\\optim\\optimizer.py:487\u001B[0m, in \u001B[0;36mOptimizer.profile_hook_step.<locals>.wrapper\u001B[1;34m(*args, **kwargs)\u001B[0m\n\u001B[0;32m    482\u001B[0m         \u001B[38;5;28;01melse\u001B[39;00m:\n\u001B[0;32m    483\u001B[0m             \u001B[38;5;28;01mraise\u001B[39;00m \u001B[38;5;167;01mRuntimeError\u001B[39;00m(\n\u001B[0;32m    484\u001B[0m                 \u001B[38;5;124mf\u001B[39m\u001B[38;5;124m\"\u001B[39m\u001B[38;5;132;01m{\u001B[39;00mfunc\u001B[38;5;132;01m}\u001B[39;00m\u001B[38;5;124m must return None or a tuple of (new_args, new_kwargs), but got \u001B[39m\u001B[38;5;132;01m{\u001B[39;00mresult\u001B[38;5;132;01m}\u001B[39;00m\u001B[38;5;124m.\u001B[39m\u001B[38;5;124m\"\u001B[39m\n\u001B[0;32m    485\u001B[0m             )\n\u001B[1;32m--> 487\u001B[0m out \u001B[38;5;241m=\u001B[39m func(\u001B[38;5;241m*\u001B[39margs, \u001B[38;5;241m*\u001B[39m\u001B[38;5;241m*\u001B[39mkwargs)\n\u001B[0;32m    488\u001B[0m \u001B[38;5;28mself\u001B[39m\u001B[38;5;241m.\u001B[39m_optimizer_step_code()\n\u001B[0;32m    490\u001B[0m \u001B[38;5;66;03m# call optimizer step post hooks\u001B[39;00m\n",
      "File \u001B[1;32mD:\\SingleCellML\\.venv\\lib\\site-packages\\torch\\utils\\_contextlib.py:116\u001B[0m, in \u001B[0;36mcontext_decorator.<locals>.decorate_context\u001B[1;34m(*args, **kwargs)\u001B[0m\n\u001B[0;32m    113\u001B[0m \u001B[38;5;129m@functools\u001B[39m\u001B[38;5;241m.\u001B[39mwraps(func)\n\u001B[0;32m    114\u001B[0m \u001B[38;5;28;01mdef\u001B[39;00m \u001B[38;5;21mdecorate_context\u001B[39m(\u001B[38;5;241m*\u001B[39margs, \u001B[38;5;241m*\u001B[39m\u001B[38;5;241m*\u001B[39mkwargs):\n\u001B[0;32m    115\u001B[0m     \u001B[38;5;28;01mwith\u001B[39;00m ctx_factory():\n\u001B[1;32m--> 116\u001B[0m         \u001B[38;5;28;01mreturn\u001B[39;00m func(\u001B[38;5;241m*\u001B[39margs, \u001B[38;5;241m*\u001B[39m\u001B[38;5;241m*\u001B[39mkwargs)\n",
      "File \u001B[1;32mD:\\SingleCellML\\.venv\\lib\\site-packages\\kan\\LBFGS.py:443\u001B[0m, in \u001B[0;36mLBFGS.step\u001B[1;34m(self, closure)\u001B[0m\n\u001B[0;32m    441\u001B[0m     \u001B[38;5;28;01mdef\u001B[39;00m \u001B[38;5;21mobj_func\u001B[39m(x, t, d):\n\u001B[0;32m    442\u001B[0m         \u001B[38;5;28;01mreturn\u001B[39;00m \u001B[38;5;28mself\u001B[39m\u001B[38;5;241m.\u001B[39m_directional_evaluate(closure, x, t, d)\n\u001B[1;32m--> 443\u001B[0m     loss, flat_grad, t, ls_func_evals \u001B[38;5;241m=\u001B[39m \u001B[43m_strong_wolfe\u001B[49m\u001B[43m(\u001B[49m\n\u001B[0;32m    444\u001B[0m \u001B[43m        \u001B[49m\u001B[43mobj_func\u001B[49m\u001B[43m,\u001B[49m\u001B[43m \u001B[49m\u001B[43mx_init\u001B[49m\u001B[43m,\u001B[49m\u001B[43m \u001B[49m\u001B[43mt\u001B[49m\u001B[43m,\u001B[49m\u001B[43m \u001B[49m\u001B[43md\u001B[49m\u001B[43m,\u001B[49m\u001B[43m \u001B[49m\u001B[43mloss\u001B[49m\u001B[43m,\u001B[49m\u001B[43m \u001B[49m\u001B[43mflat_grad\u001B[49m\u001B[43m,\u001B[49m\u001B[43m \u001B[49m\u001B[43mgtd\u001B[49m\u001B[43m)\u001B[49m\n\u001B[0;32m    445\u001B[0m \u001B[38;5;28mself\u001B[39m\u001B[38;5;241m.\u001B[39m_add_grad(t, d)\n\u001B[0;32m    446\u001B[0m opt_cond \u001B[38;5;241m=\u001B[39m flat_grad\u001B[38;5;241m.\u001B[39mabs()\u001B[38;5;241m.\u001B[39mmax() \u001B[38;5;241m<\u001B[39m\u001B[38;5;241m=\u001B[39m tolerance_grad\n",
      "File \u001B[1;32mD:\\SingleCellML\\.venv\\lib\\site-packages\\kan\\LBFGS.py:100\u001B[0m, in \u001B[0;36m_strong_wolfe\u001B[1;34m(obj_func, x, t, d, f, g, gtd, c1, c2, tolerance_change, max_ls)\u001B[0m\n\u001B[0;32m     98\u001B[0m g_prev \u001B[38;5;241m=\u001B[39m g_new\u001B[38;5;241m.\u001B[39mclone(memory_format\u001B[38;5;241m=\u001B[39mtorch\u001B[38;5;241m.\u001B[39mcontiguous_format)\n\u001B[0;32m     99\u001B[0m gtd_prev \u001B[38;5;241m=\u001B[39m gtd_new\n\u001B[1;32m--> 100\u001B[0m f_new, g_new \u001B[38;5;241m=\u001B[39m \u001B[43mobj_func\u001B[49m\u001B[43m(\u001B[49m\u001B[43mx\u001B[49m\u001B[43m,\u001B[49m\u001B[43m \u001B[49m\u001B[43mt\u001B[49m\u001B[43m,\u001B[49m\u001B[43m \u001B[49m\u001B[43md\u001B[49m\u001B[43m)\u001B[49m\n\u001B[0;32m    101\u001B[0m ls_func_evals \u001B[38;5;241m+\u001B[39m\u001B[38;5;241m=\u001B[39m \u001B[38;5;241m1\u001B[39m\n\u001B[0;32m    102\u001B[0m gtd_new \u001B[38;5;241m=\u001B[39m g_new\u001B[38;5;241m.\u001B[39mdot(d)\n",
      "File \u001B[1;32mD:\\SingleCellML\\.venv\\lib\\site-packages\\kan\\LBFGS.py:442\u001B[0m, in \u001B[0;36mLBFGS.step.<locals>.obj_func\u001B[1;34m(x, t, d)\u001B[0m\n\u001B[0;32m    441\u001B[0m \u001B[38;5;28;01mdef\u001B[39;00m \u001B[38;5;21mobj_func\u001B[39m(x, t, d):\n\u001B[1;32m--> 442\u001B[0m     \u001B[38;5;28;01mreturn\u001B[39;00m \u001B[38;5;28;43mself\u001B[39;49m\u001B[38;5;241;43m.\u001B[39;49m\u001B[43m_directional_evaluate\u001B[49m\u001B[43m(\u001B[49m\u001B[43mclosure\u001B[49m\u001B[43m,\u001B[49m\u001B[43m \u001B[49m\u001B[43mx\u001B[49m\u001B[43m,\u001B[49m\u001B[43m \u001B[49m\u001B[43mt\u001B[49m\u001B[43m,\u001B[49m\u001B[43m \u001B[49m\u001B[43md\u001B[49m\u001B[43m)\u001B[49m\n",
      "File \u001B[1;32mD:\\SingleCellML\\.venv\\lib\\site-packages\\kan\\LBFGS.py:291\u001B[0m, in \u001B[0;36mLBFGS._directional_evaluate\u001B[1;34m(self, closure, x, t, d)\u001B[0m\n\u001B[0;32m    289\u001B[0m \u001B[38;5;28;01mdef\u001B[39;00m \u001B[38;5;21m_directional_evaluate\u001B[39m(\u001B[38;5;28mself\u001B[39m, closure, x, t, d):\n\u001B[0;32m    290\u001B[0m     \u001B[38;5;28mself\u001B[39m\u001B[38;5;241m.\u001B[39m_add_grad(t, d)\n\u001B[1;32m--> 291\u001B[0m     loss \u001B[38;5;241m=\u001B[39m \u001B[38;5;28;43mfloat\u001B[39;49m\u001B[43m(\u001B[49m\u001B[43mclosure\u001B[49m\u001B[43m(\u001B[49m\u001B[43m)\u001B[49m\u001B[43m)\u001B[49m\n\u001B[0;32m    292\u001B[0m     flat_grad \u001B[38;5;241m=\u001B[39m \u001B[38;5;28mself\u001B[39m\u001B[38;5;241m.\u001B[39m_gather_flat_grad()\n\u001B[0;32m    293\u001B[0m     \u001B[38;5;28mself\u001B[39m\u001B[38;5;241m.\u001B[39m_set_param(x)\n",
      "\u001B[1;31mKeyboardInterrupt\u001B[0m: "
     ]
    }
   ],
   "source": [
    "# prune num = 10\n",
    "prune_num = 10\n",
    "repeat = 200\n",
    "test_auc = np.zeros(repeat)\n",
    "after_prune_test_auc = np.zeros(repeat)\n",
    "for i in range(repeat):\n",
    "    input_score,_,test_metrics,_,after_prune_test_metrics = run_one_model(i, x, y, device, prune_num)\n",
    "    print(f\"repeat {i+1}/{repeat}, test auc: {test_metrics[1]}, after prune test auc: {after_prune_test_metrics[1]}\")\n",
    "    print(f\"=\"*100)\n",
    "    test_auc[i] = test_metrics[1]\n",
    "    after_prune_test_auc[i] = after_prune_test_metrics[1]"
   ],
   "metadata": {
    "collapsed": false,
    "ExecuteTime": {
     "end_time": "2024-11-13T08:25:01.945634200Z",
     "start_time": "2024-11-13T08:17:49.576330Z"
    }
   },
   "id": "26e548a14560c54f"
  },
  {
   "cell_type": "code",
   "execution_count": 9,
   "outputs": [],
   "source": [
    "auc[f\"prune_num_{prune_num}\"] = [test_auc, after_prune_test_auc]"
   ],
   "metadata": {
    "collapsed": false,
    "ExecuteTime": {
     "end_time": "2024-11-13T08:25:03.632655300Z",
     "start_time": "2024-11-13T08:25:03.613655900Z"
    }
   },
   "id": "8bb72d5faae60fe7"
  },
  {
   "cell_type": "code",
   "execution_count": 10,
   "outputs": [
    {
     "data": {
      "text/plain": "[array([0.99624132, 0.99742196, 0.99836525, 0.99519377, 0.99583606,\n        0.9793861 , 0.99192939, 0.99867194, 0.9814442 , 0.99522469,\n        0.99731918, 0.98567591, 0.99516967, 0.99214743, 0.99079458,\n        0.99873689, 0.97166952, 0.99215635, 0.        , 0.        ,\n        0.        , 0.        , 0.        , 0.        , 0.        ,\n        0.        , 0.        , 0.        , 0.        , 0.        ,\n        0.        , 0.        , 0.        , 0.        , 0.        ,\n        0.        , 0.        , 0.        , 0.        , 0.        ,\n        0.        , 0.        , 0.        , 0.        , 0.        ,\n        0.        , 0.        , 0.        , 0.        , 0.        ,\n        0.        , 0.        , 0.        , 0.        , 0.        ,\n        0.        , 0.        , 0.        , 0.        , 0.        ,\n        0.        , 0.        , 0.        , 0.        , 0.        ,\n        0.        , 0.        , 0.        , 0.        , 0.        ,\n        0.        , 0.        , 0.        , 0.        , 0.        ,\n        0.        , 0.        , 0.        , 0.        , 0.        ,\n        0.        , 0.        , 0.        , 0.        , 0.        ,\n        0.        , 0.        , 0.        , 0.        , 0.        ,\n        0.        , 0.        , 0.        , 0.        , 0.        ,\n        0.        , 0.        , 0.        , 0.        , 0.        ,\n        0.        , 0.        , 0.        , 0.        , 0.        ,\n        0.        , 0.        , 0.        , 0.        , 0.        ,\n        0.        , 0.        , 0.        , 0.        , 0.        ,\n        0.        , 0.        , 0.        , 0.        , 0.        ,\n        0.        , 0.        , 0.        , 0.        , 0.        ,\n        0.        , 0.        , 0.        , 0.        , 0.        ,\n        0.        , 0.        , 0.        , 0.        , 0.        ,\n        0.        , 0.        , 0.        , 0.        , 0.        ,\n        0.        , 0.        , 0.        , 0.        , 0.        ,\n        0.        , 0.        , 0.        , 0.        , 0.        ,\n        0.        , 0.        , 0.        , 0.        , 0.        ,\n        0.        , 0.        , 0.        , 0.        , 0.        ,\n        0.        , 0.        , 0.        , 0.        , 0.        ,\n        0.        , 0.        , 0.        , 0.        , 0.        ,\n        0.        , 0.        , 0.        , 0.        , 0.        ,\n        0.        , 0.        , 0.        , 0.        , 0.        ,\n        0.        , 0.        , 0.        , 0.        , 0.        ,\n        0.        , 0.        , 0.        , 0.        , 0.        ,\n        0.        , 0.        , 0.        , 0.        , 0.        ,\n        0.        , 0.        , 0.        , 0.        , 0.        ]),\n array([0.71397736, 0.75178639, 0.75582884, 0.62334055, 0.69673499,\n        0.74393651, 0.71612663, 0.75024981, 0.74589268, 0.79393549,\n        0.73518704, 0.75141349, 0.74768368, 0.70921418, 0.74120126,\n        0.58703382, 0.60017856, 0.74232517, 0.        , 0.        ,\n        0.        , 0.        , 0.        , 0.        , 0.        ,\n        0.        , 0.        , 0.        , 0.        , 0.        ,\n        0.        , 0.        , 0.        , 0.        , 0.        ,\n        0.        , 0.        , 0.        , 0.        , 0.        ,\n        0.        , 0.        , 0.        , 0.        , 0.        ,\n        0.        , 0.        , 0.        , 0.        , 0.        ,\n        0.        , 0.        , 0.        , 0.        , 0.        ,\n        0.        , 0.        , 0.        , 0.        , 0.        ,\n        0.        , 0.        , 0.        , 0.        , 0.        ,\n        0.        , 0.        , 0.        , 0.        , 0.        ,\n        0.        , 0.        , 0.        , 0.        , 0.        ,\n        0.        , 0.        , 0.        , 0.        , 0.        ,\n        0.        , 0.        , 0.        , 0.        , 0.        ,\n        0.        , 0.        , 0.        , 0.        , 0.        ,\n        0.        , 0.        , 0.        , 0.        , 0.        ,\n        0.        , 0.        , 0.        , 0.        , 0.        ,\n        0.        , 0.        , 0.        , 0.        , 0.        ,\n        0.        , 0.        , 0.        , 0.        , 0.        ,\n        0.        , 0.        , 0.        , 0.        , 0.        ,\n        0.        , 0.        , 0.        , 0.        , 0.        ,\n        0.        , 0.        , 0.        , 0.        , 0.        ,\n        0.        , 0.        , 0.        , 0.        , 0.        ,\n        0.        , 0.        , 0.        , 0.        , 0.        ,\n        0.        , 0.        , 0.        , 0.        , 0.        ,\n        0.        , 0.        , 0.        , 0.        , 0.        ,\n        0.        , 0.        , 0.        , 0.        , 0.        ,\n        0.        , 0.        , 0.        , 0.        , 0.        ,\n        0.        , 0.        , 0.        , 0.        , 0.        ,\n        0.        , 0.        , 0.        , 0.        , 0.        ,\n        0.        , 0.        , 0.        , 0.        , 0.        ,\n        0.        , 0.        , 0.        , 0.        , 0.        ,\n        0.        , 0.        , 0.        , 0.        , 0.        ,\n        0.        , 0.        , 0.        , 0.        , 0.        ,\n        0.        , 0.        , 0.        , 0.        , 0.        ,\n        0.        , 0.        , 0.        , 0.        , 0.        ,\n        0.        , 0.        , 0.        , 0.        , 0.        ])]"
     },
     "execution_count": 10,
     "metadata": {},
     "output_type": "execute_result"
    }
   ],
   "source": [
    "# prune num = 20\n",
    "prune_num = 20\n",
    "repeat = 200\n",
    "test_auc = np.zeros(repeat)\n",
    "after_prune_test_auc = np.zeros(repeat)\n",
    "\n",
    "for i in range(repeat):\n",
    "    input_score,_,test_metrics,_,after_prune_test_metrics = run_one_model(i, x, y, device, prune_num)\n",
    "    print(f\"repeat {i+1}/{repeat}, test auc: {test_metrics[1]}, after prune test auc: {after_prune_test_metrics[1]}\")\n",
    "    print(f\"=\"*100)\n",
    "    test_auc[i] = test_metrics[1]\n",
    "    after_prune_test_auc[i] = after_prune_test_metrics[1] "
   ],
   "metadata": {
    "collapsed": false,
    "ExecuteTime": {
     "end_time": "2024-11-13T08:25:09.404851100Z",
     "start_time": "2024-11-13T08:25:09.380852300Z"
    }
   },
   "id": "eaaeff3db88c6189"
  },
  {
   "cell_type": "code",
   "execution_count": null,
   "outputs": [],
   "source": [
    "auc[f\"prune_num_{prune_num}\"] = [test_auc, after_prune_test_auc]"
   ],
   "metadata": {
    "collapsed": false
   },
   "id": "502a875d89126ecb"
  },
  {
   "cell_type": "code",
   "execution_count": null,
   "outputs": [],
   "source": [
    "# prune num = 30\n",
    "prune_num = 30\n",
    "repeat = 200\n",
    "test_auc = np.zeros(repeat)\n",
    "after_prune_test_auc = np.zeros(repeat)\n",
    "\n",
    "for i in range(repeat):\n",
    "    input_score,_,test_metrics,_,after_prune_test_metrics = run_one_model(i, x, y, device, prune_num)\n",
    "    print(f\"repeat {i+1}/{repeat}, test auc: {test_metrics[1]}, after prune test auc: {after_prune_test_metrics[1]}\")\n",
    "    print(f\"=\"*100)\n",
    "    test_auc[i] = test_metrics[1]\n",
    "    after_prune_test_auc[i] = after_prune_test_metrics[1]"
   ],
   "metadata": {
    "collapsed": false
   },
   "id": "2660b940f7ce247f"
  },
  {
   "cell_type": "code",
   "execution_count": null,
   "outputs": [],
   "source": [
    "auc[f\"prune_num_{prune_num}\"] = [test_auc, after_prune_test_auc]"
   ],
   "metadata": {
    "collapsed": false
   },
   "id": "748f9003072d7fb7"
  },
  {
   "cell_type": "code",
   "execution_count": null,
   "outputs": [],
   "source": [
    "# prune num = 40\n",
    "prune_num = 40\n",
    "repeat = 200\n",
    "test_auc = np.zeros(repeat)\n",
    "after_prune_test_auc = np.zeros(repeat)\n",
    "\n",
    "for i in range(repeat):\n",
    "    input_score,_,test_metrics,_,after_prune_test_metrics = run_one_model(i, x, y, device, prune_num)\n",
    "    print(f\"repeat {i+1}/{repeat}, test auc: {test_metrics[1]}, after prune test auc: {after_prune_test_metrics[1]}\")\n",
    "    print(f\"=\"*100)\n",
    "    test_auc[i] = test_metrics[1]\n",
    "    after_prune_test_auc[i] = after_prune_test_metrics[1]"
   ],
   "metadata": {
    "collapsed": false
   },
   "id": "3519fa3905dee3be"
  },
  {
   "cell_type": "code",
   "execution_count": null,
   "outputs": [],
   "source": [
    "auc[f\"prune_num_{prune_num}\"] = [test_auc, after_prune_test_auc]"
   ],
   "metadata": {
    "collapsed": false
   },
   "id": "19487f46e9ba0363"
  },
  {
   "cell_type": "code",
   "execution_count": null,
   "outputs": [],
   "source": [
    "# prune num = 50\n",
    "prune_num = 50\n",
    "repeat = 200\n",
    "test_auc = np.zeros(repeat)\n",
    "after_prune_test_auc = np.zeros(repeat)\n",
    "\n",
    "for i in range(repeat):\n",
    "    input_score,_,test_metrics,_,after_prune_test_metrics = run_one_model(i, x, y, device, prune_num)\n",
    "    print(f\"repeat {i+1}/{repeat}, test auc: {test_metrics[1]}, after prune test auc: {after_prune_test_metrics[1]}\")\n",
    "    print(f\"=\"*100)\n",
    "    test_auc[i] = test_metrics[1]\n",
    "    after_prune_test_auc[i] = after_prune_test_metrics[1]"
   ],
   "metadata": {
    "collapsed": false
   },
   "id": "1e76ad58d1affe22"
  },
  {
   "cell_type": "code",
   "execution_count": null,
   "outputs": [],
   "source": [
    "auc[f\"prune_num_{prune_num}\"] = [test_auc, after_prune_test_auc]"
   ],
   "metadata": {
    "collapsed": false
   },
   "id": "389d473b76b161c9"
  },
  {
   "cell_type": "code",
   "execution_count": 11,
   "outputs": [],
   "source": [
    "# 将auc保存到文件\n",
    "import pickle\n",
    "with open('auc(experiment1).pkl', 'wb') as f:\n",
    "    pickle.dump(auc, f)"
   ],
   "metadata": {
    "collapsed": false,
    "ExecuteTime": {
     "end_time": "2024-11-13T08:29:21.616100400Z",
     "start_time": "2024-11-13T08:29:21.598102100Z"
    }
   },
   "id": "ca1d4f740471d5fb"
  },
  {
   "cell_type": "code",
   "execution_count": 12,
   "outputs": [],
   "source": [
    "# 读取auc\n",
    "import pickle\n",
    "with open('auc(experiment1).pkl', 'rb') as f:\n",
    "    auc = pickle.load(f)\n"
   ],
   "metadata": {
    "collapsed": false,
    "ExecuteTime": {
     "end_time": "2024-11-13T08:29:54.373729600Z",
     "start_time": "2024-11-13T08:29:54.366741800Z"
    }
   },
   "id": "6cc44918359f5ac0"
  },
  {
   "cell_type": "code",
   "execution_count": null,
   "outputs": [],
   "source": [],
   "metadata": {
    "collapsed": false
   },
   "id": "e5056535fc3c09b7"
  }
 ],
 "metadata": {
  "kernelspec": {
   "display_name": "Python 3",
   "language": "python",
   "name": "python3"
  },
  "language_info": {
   "codemirror_mode": {
    "name": "ipython",
    "version": 2
   },
   "file_extension": ".py",
   "mimetype": "text/x-python",
   "name": "python",
   "nbconvert_exporter": "python",
   "pygments_lexer": "ipython2",
   "version": "2.7.6"
  }
 },
 "nbformat": 4,
 "nbformat_minor": 5
}
